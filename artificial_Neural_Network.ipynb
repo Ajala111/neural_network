{
 "cells": [
  {
   "cell_type": "code",
   "execution_count": null,
   "metadata": {},
   "outputs": [],
   "source": [
    "# Artificial Neural Network"
   ]
  },
  {
   "cell_type": "code",
   "execution_count": null,
   "metadata": {},
   "outputs": [],
   "source": [
    "import numpy as np\n",
    "from sklearn.datasets import make_classification\n",
    "from random import randint"
   ]
  },
  {
   "cell_type": "code",
   "execution_count": null,
   "metadata": {},
   "outputs": [],
   "source": [
    "## Dataset\n",
    "X, C = make_classification(300, 2, 2, 0, 0, 2, 1, \n",
    "                           class_sep=30, flip_y=0, \n",
    "                           hypercube=False, random_state=2)\n",
    "X = np.hstack([np.ones((X.shape[0], 1)), X])\n",
    "C = 2*C - 1\n",
    "D = (X, C)"
   ]
  },
  {
   "cell_type": "code",
   "execution_count": null,
   "metadata": {},
   "outputs": [],
   "source": [
    "def random_select(D):\n",
    "    p=randint(0, len(D[0])-1);\n",
    "    return (list(D[0][p]),D[1][p])"
   ]
  },
  {
   "cell_type": "code",
   "execution_count": null,
   "metadata": {},
   "outputs": [],
   "source": [
    "random_select(([[1,0,0]], [-1]))"
   ]
  },
  {
   "cell_type": "code",
   "execution_count": null,
   "metadata": {},
   "outputs": [],
   "source": [
    "class Perceptron_training:\n",
    "\n",
    "    def __init__(D, eta =0.1, tmax = 300):\n",
    "        D.eta = eta\n",
    "        D.tmax = tmax\n",
    "        D.threshold_function = D._unit_step_func\n",
    "        D.weights = None\n",
    "        D.bias = None\n",
    "\n",
    "    def fit(D, X, C):       ## fit method gets the training (samples X) and labels (targets C)\n",
    "        n_samples, n_features = X.shape         ## n_samples is the nuumbes of rows; number of colmns is the n_features\n",
    "        # initial parameters\n",
    "        D.weights = np.zeros(n_features)\n",
    "        D.bias = 0\n",
    "        c_ = np.array(C)     ## targets\n",
    "        for _ in range(D.tmax):\n",
    "            for idx, x_i in enumerate(X):     ##to get the idx and the current sample\n",
    "\n",
    "                #calculating the predicted value, and applying the updates\n",
    "                linear_output = np.dot(x_i, D.weights) + D.bias     # x_i is the current sample  \n",
    "                c_predicted = D.threshold_function(linear_output)   # applying the activation function, and getting of the predicted value\n",
    "                # Perceptron update \n",
    "                update = D.eta * (c_[idx] - c_predicted)\n",
    "                D.weights += update * x_i\n",
    "                D.bias += update\n",
    "\n",
    "    def convergence(D, X):\n",
    "        linear_output = np.dot(X, D.weights) + D.bias        #dot products of (wTx + bias)\n",
    "        c_convergence = D.threshold_function(linear_output)\n",
    "        return c_convergence\n",
    "\n",
    "    ## defining the activation function\n",
    "    def _unit_step_func(D, x):\n",
    "        return np.sign(x)"
   ]
  },
  {
   "cell_type": "code",
   "execution_count": null,
   "metadata": {},
   "outputs": [],
   "source": [
    "p = Perceptron_training(eta=0.1, tmax=300)   #creatiing the obect for the p"
   ]
  },
  {
   "cell_type": "code",
   "execution_count": null,
   "metadata": {},
   "outputs": [],
   "source": [
    "## fitting(train) the data \n",
    "p.fit(X, C)"
   ]
  },
  {
   "cell_type": "code",
   "execution_count": null,
   "metadata": {},
   "outputs": [],
   "source": [
    "predictions = p.convergence(X)     ## using the predict method to predict using thesame \"separable\" dataset      "
   ]
  },
  {
   "cell_type": "code",
   "execution_count": null,
   "metadata": {},
   "outputs": [],
   "source": [
    "predictions"
   ]
  },
  {
   "cell_type": "code",
   "execution_count": null,
   "metadata": {},
   "outputs": [],
   "source": [
    "## calculating the misclassification rate\n",
    "def misclass_rate(actual_value, predicted_value):\n",
    "    misclassification = np.sum(actual_value != predicted_value) / len(actual_value)\n",
    "    return misclassification"
   ]
  },
  {
   "cell_type": "code",
   "execution_count": null,
   "metadata": {},
   "outputs": [],
   "source": [
    "## Print misclassification rate\n",
    "misclass_rate(C, predictions)"
   ]
  },
  {
   "cell_type": "code",
   "execution_count": null,
   "metadata": {},
   "outputs": [],
   "source": [
    "##def nonseparable_dataset():\n",
    "from sklearn.datasets import make_classification\n",
    "A, B = make_classification(300, 2, 2, 0, 0, 2, 1,\n",
    "                        class_sep=10, flip_y=0.1,\n",
    "                         hypercube=False, random_state=2)\n",
    "A = np.hstack([np.ones((A.shape[0], 1)), A])\n",
    "B = 2*B - 1"
   ]
  },
  {
   "cell_type": "code",
   "execution_count": null,
   "metadata": {},
   "outputs": [],
   "source": [
    "## testing with the non_separable dataset for the prediction and obtaining the min, max, and mean of the misclass\n",
    "\n",
    "q = Perceptron_training(eta=0.1, tmax=300)\n",
    "misclass = []\n",
    "for i in range (1000):\n",
    "    q.fit(A, B)\n",
    "    predictions = q.convergence(A)\n",
    "    misclass.append(misclass_rate(B, predictions)) \n",
    "    B = predictions    ## Next target   \n",
    "  \n",
    "print('Minimum misclass', (min(misclass))*100, \" %\")\n",
    "print('Maximum misclass', (max(misclass))*100, \" %\")\n",
    "print('Mean misclass', (np.mean(misclass))*100, \" %\")"
   ]
  },
  {
   "cell_type": "code",
   "execution_count": null,
   "metadata": {},
   "outputs": [],
   "source": []
  }
 ],
 "metadata": {
  "kernelspec": {
   "display_name": "Python 3",
   "language": "python",
   "name": "python3"
  },
  "language_info": {
   "codemirror_mode": {
    "name": "ipython",
    "version": 3
   },
   "file_extension": ".py",
   "mimetype": "text/x-python",
   "name": "python",
   "nbconvert_exporter": "python",
   "pygments_lexer": "ipython3",
   "version": "3.8.5"
  }
 },
 "nbformat": 4,
 "nbformat_minor": 4
}
